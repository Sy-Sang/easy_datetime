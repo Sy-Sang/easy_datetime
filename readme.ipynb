{
 "cells": [
  {
   "cell_type": "code",
   "id": "initial_id",
   "metadata": {
    "collapsed": true,
    "ExecuteTime": {
     "end_time": "2024-09-03T16:45:45.621673Z",
     "start_time": "2024-09-03T16:45:45.618391Z"
    }
   },
   "source": "from easy_datetime.timestamp import TimeStamp,TimeLine",
   "outputs": [],
   "execution_count": 34
  },
  {
   "metadata": {
    "ExecuteTime": {
     "end_time": "2024-09-03T16:45:45.628140Z",
     "start_time": "2024-09-03T16:45:45.623801Z"
    }
   },
   "cell_type": "code",
   "source": [
    "t = TimeStamp(202481101110, \"yyyymddHMSS\")\n",
    "print(t)\n",
    "print(t.get_chinese_datetime_str())"
   ],
   "id": "39621d1b879e1af6",
   "outputs": [
    {
     "name": "stdout",
     "output_type": "stream",
     "text": [
      "2024-08-11 00:01:11\n",
      "2024年8月11日0点1分11秒\n"
     ]
    }
   ],
   "execution_count": 35
  },
  {
   "metadata": {
    "ExecuteTime": {
     "end_time": "2024-09-03T16:45:45.633689Z",
     "start_time": "2024-09-03T16:45:45.629923Z"
    }
   },
   "cell_type": "code",
   "source": [
    "t = TimeStamp(2024,1)\n",
    "print(t)\n",
    "print(t.sec())"
   ],
   "id": "35e986ef32e36083",
   "outputs": [
    {
     "name": "stdout",
     "output_type": "stream",
     "text": [
      "2024-01-01 00:00:00\n",
      "{'year': 31622400.0, 'month': 2678400.0, 'week': 604800, 'day': 86400, 'hour': 3600, 'sec': 1, 'microsec': 1e-06}\n"
     ]
    }
   ],
   "execution_count": 36
  },
  {
   "metadata": {
    "ExecuteTime": {
     "end_time": "2024-09-03T16:45:45.639269Z",
     "start_time": "2024-09-03T16:45:45.635822Z"
    }
   },
   "cell_type": "code",
   "source": [
    "t = TimeStamp(2024, H=1)\n",
    "print(t)\n",
    "print(t.days_in_week())"
   ],
   "id": "6e1b1430732655f0",
   "outputs": [
    {
     "name": "stdout",
     "output_type": "stream",
     "text": [
      "2024-01-01 01:00:00\n",
      "[TimeStamp(2024, 1, 1, 1, 1, 1, 1), TimeStamp(2024, 1, 2, 1, 1, 1, 1), TimeStamp(2024, 1, 3, 1, 1, 1, 1), TimeStamp(2024, 1, 4, 1, 1, 1, 1), TimeStamp(2024, 1, 5, 1, 1, 1, 1), TimeStamp(2024, 1, 6, 1, 1, 1, 1), TimeStamp(2024, 1, 7, 1, 1, 1, 1)]\n"
     ]
    }
   ],
   "execution_count": 37
  },
  {
   "metadata": {
    "ExecuteTime": {
     "end_time": "2024-09-03T16:45:45.644009Z",
     "start_time": "2024-09-03T16:45:45.640324Z"
    }
   },
   "cell_type": "code",
   "source": [
    "t = TimeStamp()\n",
    "print(t)\n",
    "print(t[\"week\"])\n",
    "print(t[\"month_week\"])"
   ],
   "id": "46f6e16a882b58ce",
   "outputs": [
    {
     "name": "stdout",
     "output_type": "stream",
     "text": [
      "2024-09-04 00:45:45.641896\n",
      "35\n",
      "0\n"
     ]
    }
   ],
   "execution_count": 38
  },
  {
   "metadata": {
    "ExecuteTime": {
     "end_time": "2024-09-03T16:45:45.648996Z",
     "start_time": "2024-09-03T16:45:45.645779Z"
    }
   },
   "cell_type": "code",
   "source": [
    "t = TimeStamp(\"2024年1月\") + [\"month\", 14] - [\"day\",3]\n",
    "print(t)\n",
    "print(t + {\"year\":10, \"day\":2, \"month\":1})"
   ],
   "id": "5adca03a83be0f1b",
   "outputs": [
    {
     "name": "stdout",
     "output_type": "stream",
     "text": [
      "2025-02-26 01:01:01.000001\n",
      "2035-03-28 01:01:01.000001\n"
     ]
    }
   ],
   "execution_count": 39
  },
  {
   "metadata": {
    "ExecuteTime": {
     "end_time": "2024-09-03T16:45:45.654470Z",
     "start_time": "2024-09-03T16:45:45.650042Z"
    }
   },
   "cell_type": "code",
   "source": [
    "tr = TimeStamp.timestamp_range(2021, \"2022年3月\", \"month\", 1)\n",
    "print(tr)\n",
    "print([i[[\"week\",\"weekday\"]] for i in tr])"
   ],
   "id": "18496ae554d905f5",
   "outputs": [
    {
     "name": "stdout",
     "output_type": "stream",
     "text": [
      "[TimeStamp(2021, 1, 1, 0, 0), TimeStamp(2021, 2, 1, 0, 0), TimeStamp(2021, 3, 1, 0, 0), TimeStamp(2021, 4, 1, 0, 0), TimeStamp(2021, 5, 1, 0, 0), TimeStamp(2021, 6, 1, 0, 0), TimeStamp(2021, 7, 1, 0, 0), TimeStamp(2021, 8, 1, 0, 0), TimeStamp(2021, 9, 1, 0, 0), TimeStamp(2021, 10, 1, 0, 0), TimeStamp(2021, 11, 1, 0, 0), TimeStamp(2021, 12, 1, 0, 0), TimeStamp(2022, 1, 1, 0, 0), TimeStamp(2022, 2, 1, 0, 0), TimeStamp(2022, 3, 1, 0, 0)]\n",
      "[[0, 4], [4, 0], [8, 0], [12, 3], [17, 5], [21, 1], [25, 3], [30, 6], [34, 2], [39, 4], [43, 0], [47, 2], [0, 5], [4, 1], [8, 1]]\n"
     ]
    }
   ],
   "execution_count": 40
  },
  {
   "metadata": {
    "ExecuteTime": {
     "end_time": "2024-09-03T16:47:09.211552Z",
     "start_time": "2024-09-03T16:47:09.207108Z"
    }
   },
   "cell_type": "code",
   "source": [
    "tl = TimeLine(tr)\n",
    "print(tl)\n",
    "print(tl.get_time_slice(\"weekday\", 1))\n",
    "print(tl.get_time_slice(\"month_week\", 0))"
   ],
   "id": "5f502710298b0c4c",
   "outputs": [
    {
     "name": "stdout",
     "output_type": "stream",
     "text": [
      "['2021-01-01 00:00:00', '2021-02-01 00:00:00', '2021-03-01 00:00:00', '2021-04-01 00:00:00', '2021-05-01 00:00:00', '2021-06-01 00:00:00', '2021-07-01 00:00:00', '2021-08-01 00:00:00', '2021-09-01 00:00:00', '2021-10-01 00:00:00', '2021-11-01 00:00:00', '2021-12-01 00:00:00', '2022-01-01 00:00:00', '2022-02-01 00:00:00', '2022-03-01 00:00:00']\n",
      "(array([ 5, 13, 14]),)\n",
      "(array([ 0,  1,  2,  3,  4,  5,  6,  7,  8,  9, 10, 11, 12, 13, 14]),)\n"
     ]
    }
   ],
   "execution_count": 47
  },
  {
   "metadata": {
    "ExecuteTime": {
     "end_time": "2024-09-03T16:45:45.662231Z",
     "start_time": "2024-09-03T16:45:45.659911Z"
    }
   },
   "cell_type": "code",
   "source": "",
   "id": "6ba5ccdeaa243ba",
   "outputs": [],
   "execution_count": 41
  }
 ],
 "metadata": {
  "kernelspec": {
   "display_name": "Python 3",
   "language": "python",
   "name": "python3"
  },
  "language_info": {
   "codemirror_mode": {
    "name": "ipython",
    "version": 2
   },
   "file_extension": ".py",
   "mimetype": "text/x-python",
   "name": "python",
   "nbconvert_exporter": "python",
   "pygments_lexer": "ipython2",
   "version": "2.7.6"
  }
 },
 "nbformat": 4,
 "nbformat_minor": 5
}
